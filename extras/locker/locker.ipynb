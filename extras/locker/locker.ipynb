{
 "cells": [
  {
   "cell_type": "code",
   "execution_count": 36,
   "metadata": {},
   "outputs": [],
   "source": [
    "import  Build.CToolKit  as ct \n",
    "from time import time\n",
    "import json"
   ]
  },
  {
   "cell_type": "code",
   "execution_count": 37,
   "metadata": {},
   "outputs": [],
   "source": [
    "def execute_single_test(total_process,total_lines,total_checks):\n",
    "    \n",
    "    now = time()\n",
    "    ct.ComandLineExecution(f'./locker.out {total_process} {total_lines} {total_checks} ')\n",
    "    duration = time() - now\n",
    "    totals = {}\n",
    "    with open('a.txt','r') as arq:\n",
    "        elements = arq.read().split('\\n')\n",
    "        for e in elements:\n",
    "            if not e:\n",
    "                continue\n",
    "            try:\n",
    "                totals[e]+=1\n",
    "            except KeyError:\n",
    "                totals[e] = 1\n",
    "\n",
    "    if len(totals) != total_process:\n",
    "        raise Exception('not equal to total process',totals,total_process)\n",
    "    \n",
    "    for x in totals:\n",
    "        value = totals[x]\n",
    "        if value != total_lines:\n",
    "            raise Exception('not equal to generation per process')\n",
    "    return duration\n"
   ]
  },
  {
   "cell_type": "code",
   "execution_count": 38,
   "metadata": {},
   "outputs": [],
   "source": [
    "def execute_single_test_x_times(times,total_process,total_lines,total_checks):\n",
    "    for x in range(0,times):\n",
    "        execute_single_test(total_process,total_lines,total_checks)\n",
    "        "
   ]
  },
  {
   "cell_type": "code",
   "execution_count": 39,
   "metadata": {},
   "outputs": [],
   "source": [
    "def get_safe_num(total_process,times):\n",
    "     total_checks = 10\n",
    "    \n",
    "     \n",
    "     while True:\n",
    "        try:\n",
    "             start = time()\n",
    "             execute_single_test_x_times(times,total_process,10,total_checks)\n",
    "            \n",
    "             break\n",
    "        except:\n",
    "            total_checks+=10\n",
    "     \n",
    "  \n",
    "\n",
    "     return {\n",
    "         'total_checks':total_checks,\n",
    "        'duration': time() - start \n",
    "     }\n",
    "         "
   ]
  },
  {
   "cell_type": "code",
   "execution_count": 40,
   "metadata": {},
   "outputs": [
    {
     "name": "stdout",
     "output_type": "stream",
     "text": [
      "process 1\n",
      "\t cheks: 10\n",
      "\t duration: 3.1756374835968018\n",
      "process 2\n",
      "\t cheks: 20\n",
      "\t duration: 4.560858726501465\n",
      "process 3\n",
      "\t cheks: 90\n",
      "\t duration: 4.414544105529785\n",
      "process 4\n",
      "\t cheks: 200\n",
      "\t duration: 8.685424327850342\n",
      "end tests\n",
      "process 1\n",
      "\t cheks: 10\n",
      "\t duration: 2.8936359882354736\n",
      "process 2\n",
      "\t cheks: 10\n",
      "\t duration: 3.3170928955078125\n",
      "process 3\n",
      "\t cheks: 140\n",
      "\t duration: 6.5944108963012695\n",
      "process 4\n",
      "\t cheks: 190\n",
      "\t duration: 8.569763898849487\n",
      "end tests\n",
      "process 1\n",
      "\t cheks: 10\n",
      "\t duration: 2.7414350509643555\n",
      "process 2\n",
      "\t cheks: 30\n",
      "\t duration: 2.5606019496917725\n",
      "process 3\n",
      "\t cheks: 120\n",
      "\t duration: 10.07323670387268\n"
     ]
    }
   ],
   "source": [
    "for i in range(0,5):\n",
    "    ct.compile_project('locker.c')\n",
    "    total_process  = 10\n",
    "    times_each = 1000\n",
    "    tests = []\n",
    "    result =  {\n",
    "        'times':times_each,\n",
    "        'tests':tests,\n",
    "        \"testesd with\":total_process\n",
    "    }\n",
    "    for x in range(1,total_process+1):\n",
    "        current_test = get_safe_num(x,times_each)\n",
    "        print(f'process {x}')\n",
    "        print(f'\\t cheks: {current_test[\"total_checks\"]}')\n",
    "        print(f'\\t duration: {current_test[\"duration\"]}')\n",
    "        \n",
    "        tests.append(current_test)\n",
    "        \n",
    "    print('end tests')\n",
    "    with open(f'data/{i}.json','w') as arq:\n",
    "        json.dump(result,arq,indent=4)\n"
   ]
  },
  {
   "cell_type": "markdown",
   "metadata": {},
   "source": []
  }
 ],
 "metadata": {
  "kernelspec": {
   "display_name": "Python 3",
   "language": "python",
   "name": "python3"
  },
  "language_info": {
   "codemirror_mode": {
    "name": "ipython",
    "version": 3
   },
   "file_extension": ".py",
   "mimetype": "text/x-python",
   "name": "python",
   "nbconvert_exporter": "python",
   "pygments_lexer": "ipython3",
   "version": "3.11.5"
  },
  "orig_nbformat": 4
 },
 "nbformat": 4,
 "nbformat_minor": 2
}
