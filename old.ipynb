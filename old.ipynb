{
 "cells": [
  {
   "cell_type": "code",
   "execution_count": 1,
   "metadata": {},
   "outputs": [],
   "source": [
    "import  Build.CToolKit  as ct \n",
    "from time import time"
   ]
  },
  {
   "cell_type": "code",
   "execution_count": 2,
   "metadata": {},
   "outputs": [],
   "source": [
    "def execute_single_test(total_process,total_lines,reverification_delay,wait_delay):\n",
    "    \n",
    "    now = time()\n",
    "    ct.ComandLineExecution(f'./old.out {total_process} {total_lines} {reverification_delay} {wait_delay}')\n",
    "    duration = time() - now\n",
    "    totals = {}\n",
    "    with open('a.txt','r') as arq:\n",
    "        elements = arq.read().split('\\n')\n",
    "        for e in elements:\n",
    "            if not e:\n",
    "                continue\n",
    "            try:\n",
    "                totals[e]+=1\n",
    "            except KeyError:\n",
    "                totals[e] = 1\n",
    "\n",
    "    if len(totals) != total_process:\n",
    "        raise Exception('not equal to total process',totals,total_process)\n",
    "    \n",
    "    for x in totals:\n",
    "        value = totals[x]\n",
    "        if value != total_lines:\n",
    "            raise Exception('not equal to generation per process')\n",
    "    return duration\n"
   ]
  },
  {
   "cell_type": "code",
   "execution_count": 3,
   "metadata": {},
   "outputs": [],
   "source": [
    "def execute_single_test_x_times(times,total_process,total_lines,reverification_delay,wait_delay):\n",
    "    for x in range(0,times):\n",
    "        execute_single_test(total_process,total_lines,reverification_delay,wait_delay)\n",
    "        "
   ]
  },
  {
   "cell_type": "code",
   "execution_count": 4,
   "metadata": {},
   "outputs": [],
   "source": [
    "def get_safe_num(total_process):\n",
    "     wait_delay = 1\n",
    "     reverification = 0.1\n",
    "     times = 100\n",
    "     \n",
    "     while True:\n",
    "        try:\n",
    "             start = time()\n",
    "             execute_single_test_x_times(times,total_process,10,reverification,wait_delay)\n",
    "             break\n",
    "        except:\n",
    "\n",
    "            reverification+=0.1\n",
    "     \n",
    "  \n",
    "\n",
    "     return {\n",
    "         'duration':time() - start,\n",
    "         'reverification':reverification,\n",
    "         'wait':wait_delay\n",
    "     }\n",
    "         "
   ]
  },
  {
   "cell_type": "code",
   "execution_count": 5,
   "metadata": {},
   "outputs": [
    {
     "ename": "ExecutionError",
     "evalue": "Mensage: old.c: In function ‘append_once’:\nold.c:14:11: error: ‘DtwLocker’ {aka ‘struct DtwLocker’} has no member named ‘total_checks’\n     locker->total_checks = total_checks;\n           ^~\nStatus Code: 1\n",
     "output_type": "error",
     "traceback": [
      "\u001b[0;31m---------------------------------------------------------------------------\u001b[0m",
      "\u001b[0;31mExecutionError\u001b[0m                            Traceback (most recent call last)",
      "Cell \u001b[0;32mIn[5], line 1\u001b[0m\n\u001b[0;32m----> 1\u001b[0m \u001b[43mct\u001b[49m\u001b[38;5;241;43m.\u001b[39;49m\u001b[43mcompile_project\u001b[49m\u001b[43m(\u001b[49m\u001b[38;5;124;43m'\u001b[39;49m\u001b[38;5;124;43mold.c\u001b[39;49m\u001b[38;5;124;43m'\u001b[39;49m\u001b[43m)\u001b[49m\n\u001b[1;32m      4\u001b[0m \u001b[38;5;28;01mfor\u001b[39;00m x \u001b[38;5;129;01min\u001b[39;00m \u001b[38;5;28mrange\u001b[39m(\u001b[38;5;241m1\u001b[39m,\u001b[38;5;241m20\u001b[39m):\n\u001b[1;32m      5\u001b[0m     current_test \u001b[38;5;241m=\u001b[39m get_safe_num(x)\n",
      "File \u001b[0;32m~/Documentos/OUI/C/DoTheWorld/Build/CToolKit/comand_line_functions.py:66\u001b[0m, in \u001b[0;36mcompile_project\u001b[0;34m(file, compiler, output, flags, raise_errors, raise_warnings)\u001b[0m\n\u001b[1;32m     63\u001b[0m         output \u001b[38;5;241m=\u001b[39m file\u001b[38;5;241m.\u001b[39mreplace(\u001b[38;5;124m'\u001b[39m\u001b[38;5;124m.c\u001b[39m\u001b[38;5;124m'\u001b[39m, \u001b[38;5;124m'\u001b[39m\u001b[38;5;124m.out\u001b[39m\u001b[38;5;124m'\u001b[39m)\u001b[38;5;241m.\u001b[39mreplace(\u001b[38;5;124m'\u001b[39m\u001b[38;5;124m.cpp\u001b[39m\u001b[38;5;124m'\u001b[39m, \u001b[38;5;124m'\u001b[39m\u001b[38;5;124m.out\u001b[39m\u001b[38;5;124m'\u001b[39m)\n\u001b[1;32m     65\u001b[0m command \u001b[38;5;241m=\u001b[39m \u001b[38;5;124mf\u001b[39m\u001b[38;5;124m'\u001b[39m\u001b[38;5;132;01m{\u001b[39;00mcompiler\u001b[38;5;132;01m}\u001b[39;00m\u001b[38;5;124m \u001b[39m\u001b[38;5;132;01m{\u001b[39;00mfile\u001b[38;5;132;01m}\u001b[39;00m\u001b[38;5;124m -o \u001b[39m\u001b[38;5;132;01m{\u001b[39;00moutput\u001b[38;5;132;01m}\u001b[39;00m\u001b[38;5;124m \u001b[39m\u001b[38;5;124m'\u001b[39m \u001b[38;5;241m+\u001b[39m \u001b[38;5;124m'\u001b[39m\u001b[38;5;124m -\u001b[39m\u001b[38;5;124m'\u001b[39m\u001b[38;5;241m.\u001b[39mjoin(flags)\n\u001b[0;32m---> 66\u001b[0m \u001b[43mcompile_project_by_command\u001b[49m\u001b[43m(\u001b[49m\u001b[43mcommand\u001b[49m\u001b[43m,\u001b[49m\u001b[43m \u001b[49m\u001b[43mraise_errors\u001b[49m\u001b[43m,\u001b[49m\u001b[43m \u001b[49m\u001b[43mraise_warnings\u001b[49m\u001b[43m)\u001b[49m\n\u001b[1;32m     67\u001b[0m \u001b[38;5;28;01mreturn\u001b[39;00m output\n",
      "File \u001b[0;32m~/Documentos/OUI/C/DoTheWorld/Build/CToolKit/comand_line_functions.py:29\u001b[0m, in \u001b[0;36mcompile_project_by_command\u001b[0;34m(command, raise_errors, raise_warnings)\u001b[0m\n\u001b[1;32m     17\u001b[0m \u001b[38;5;28;01mdef\u001b[39;00m \u001b[38;5;21mcompile_project_by_command\u001b[39m(command: \u001b[38;5;28mstr\u001b[39m, raise_errors: \u001b[38;5;28mbool\u001b[39m \u001b[38;5;241m=\u001b[39m \u001b[38;5;28;01mTrue\u001b[39;00m, raise_warnings: \u001b[38;5;28mbool\u001b[39m \u001b[38;5;241m=\u001b[39m \u001b[38;5;28;01mTrue\u001b[39;00m):\n\u001b[1;32m     18\u001b[0m \u001b[38;5;250m    \u001b[39m\u001b[38;5;124;03m\"\"\"execute an copilation with the given comand\u001b[39;00m\n\u001b[1;32m     19\u001b[0m \u001b[38;5;124;03m    Args:\u001b[39;00m\n\u001b[1;32m     20\u001b[0m \u001b[38;5;124;03m        command (str): the comand copilation ,ex: 'gcc test.c'\u001b[39;00m\n\u001b[0;32m   (...)\u001b[0m\n\u001b[1;32m     26\u001b[0m \u001b[38;5;124;03m        CopilationWarning: The CopilationWarning Exception\u001b[39;00m\n\u001b[1;32m     27\u001b[0m \u001b[38;5;124;03m    \"\"\"\u001b[39;00m\n\u001b[0;32m---> 29\u001b[0m     result \u001b[38;5;241m=\u001b[39m \u001b[43mComandLineExecution\u001b[49m\u001b[43m(\u001b[49m\u001b[43mcommand\u001b[49m\u001b[43m)\u001b[49m\n\u001b[1;32m     31\u001b[0m     \u001b[38;5;28;01mif\u001b[39;00m raise_errors \u001b[38;5;129;01mand\u001b[39;00m result\u001b[38;5;241m.\u001b[39mstatus_code \u001b[38;5;241m!=\u001b[39m \u001b[38;5;241m0\u001b[39m:\n\u001b[1;32m     32\u001b[0m         \u001b[38;5;28;01mraise\u001b[39;00m CopilationError(result\u001b[38;5;241m.\u001b[39moutput, result\u001b[38;5;241m.\u001b[39mstatus_code)\n",
      "File \u001b[0;32m~/Documentos/OUI/C/DoTheWorld/Build/CToolKit/ComandLineExecution.py:16\u001b[0m, in \u001b[0;36mComandLineExecution.__init__\u001b[0;34m(self, command)\u001b[0m\n\u001b[1;32m     13\u001b[0m \u001b[38;5;28mself\u001b[39m\u001b[38;5;241m.\u001b[39mstatus_code, \u001b[38;5;28mself\u001b[39m\u001b[38;5;241m.\u001b[39moutput \u001b[38;5;241m=\u001b[39m subprocess\u001b[38;5;241m.\u001b[39mgetstatusoutput(command)\n\u001b[1;32m     15\u001b[0m \u001b[38;5;28;01mif\u001b[39;00m \u001b[38;5;28mself\u001b[39m\u001b[38;5;241m.\u001b[39mstatus_code \u001b[38;5;241m!=\u001b[39m \u001b[38;5;241m0\u001b[39m:\n\u001b[0;32m---> 16\u001b[0m     \u001b[38;5;28;01mraise\u001b[39;00m ExecutionError(\u001b[38;5;28mself\u001b[39m\u001b[38;5;241m.\u001b[39moutput, \u001b[38;5;28mself\u001b[39m\u001b[38;5;241m.\u001b[39mstatus_code)\n",
      "\u001b[0;31mExecutionError\u001b[0m: Mensage: old.c: In function ‘append_once’:\nold.c:14:11: error: ‘DtwLocker’ {aka ‘struct DtwLocker’} has no member named ‘total_checks’\n     locker->total_checks = total_checks;\n           ^~\nStatus Code: 1\n"
     ]
    }
   ],
   "source": [
    "ct.compile_project('old.c')\n",
    "\n",
    "\n",
    "for x in range(1,20):\n",
    "    current_test = get_safe_num(x)\n",
    "    print(f'process {x}')\n",
    "    print(f'duration {current_test[\"duration\"]}')\n",
    "    print(f'\\t wait: {current_test[\"wait\"]}')\n",
    "    print(f'\\t reverifation: {current_test[\"reverification\"]}')\n",
    "\n"
   ]
  },
  {
   "cell_type": "markdown",
   "metadata": {},
   "source": []
  }
 ],
 "metadata": {
  "kernelspec": {
   "display_name": "Python 3",
   "language": "python",
   "name": "python3"
  },
  "language_info": {
   "codemirror_mode": {
    "name": "ipython",
    "version": 3
   },
   "file_extension": ".py",
   "mimetype": "text/x-python",
   "name": "python",
   "nbconvert_exporter": "python",
   "pygments_lexer": "ipython3",
   "version": "3.11.5"
  },
  "orig_nbformat": 4
 },
 "nbformat": 4,
 "nbformat_minor": 2
}
