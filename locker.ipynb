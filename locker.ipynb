{
 "cells": [
  {
   "cell_type": "code",
   "execution_count": 1,
   "metadata": {},
   "outputs": [],
   "source": [
    "import  Build.CToolKit  as ct \n",
    "from time import time"
   ]
  },
  {
   "cell_type": "code",
   "execution_count": 2,
   "metadata": {},
   "outputs": [],
   "source": [
    "def execute_single_test(total_process,total_lines,total_checks):\n",
    "    \n",
    "    now = time()\n",
    "    ct.ComandLineExecution(f'./locker.out {total_process} {total_lines} {total_checks} ')\n",
    "    duration = time() - now\n",
    "    totals = {}\n",
    "    with open('a.txt','r') as arq:\n",
    "        elements = arq.read().split('\\n')\n",
    "        for e in elements:\n",
    "            if not e:\n",
    "                continue\n",
    "            try:\n",
    "                totals[e]+=1\n",
    "            except KeyError:\n",
    "                totals[e] = 1\n",
    "\n",
    "    if len(totals) != total_process:\n",
    "        raise Exception('not equal to total process',totals,total_process)\n",
    "    \n",
    "    for x in totals:\n",
    "        value = totals[x]\n",
    "        if value != total_lines:\n",
    "            raise Exception('not equal to generation per process')\n",
    "    return duration\n"
   ]
  },
  {
   "cell_type": "code",
   "execution_count": 3,
   "metadata": {},
   "outputs": [],
   "source": [
    "def execute_single_test_x_times(times,total_process,total_lines,total_checks):\n",
    "    for x in range(0,times):\n",
    "        execute_single_test(total_process,total_lines,total_checks)\n",
    "        "
   ]
  },
  {
   "cell_type": "code",
   "execution_count": 4,
   "metadata": {},
   "outputs": [],
   "source": [
    "def get_safe_num(total_process):\n",
    "     total_checks = 10\n",
    "     times = 200\n",
    "     \n",
    "     while True:\n",
    "        try:\n",
    "             start = time()\n",
    "             execute_single_test_x_times(times,total_process,10,total_checks)\n",
    "            \n",
    "             break\n",
    "        except:\n",
    "            total_checks+=20\n",
    "     \n",
    "  \n",
    "\n",
    "     return {\n",
    "         'total_checks':total_checks,\n",
    "        'duration': time() - start \n",
    "     }\n",
    "         "
   ]
  },
  {
   "cell_type": "code",
   "execution_count": 5,
   "metadata": {},
   "outputs": [
    {
     "name": "stdout",
     "output_type": "stream",
     "text": [
      "process 1\n",
      "\t cheks: 10\n",
      "\t duration: 0.9257063865661621\n",
      "process 2\n",
      "\t cheks: 10\n",
      "\t duration: 0.8689243793487549\n",
      "process 3\n",
      "\t cheks: 90\n",
      "\t duration: 1.6103274822235107\n",
      "process 4\n",
      "\t cheks: 110\n",
      "\t duration: 2.1219544410705566\n",
      "process 5\n",
      "\t cheks: 230\n",
      "\t duration: 4.375539064407349\n",
      "process 6\n",
      "\t cheks: 230\n",
      "\t duration: 6.094019651412964\n"
     ]
    }
   ],
   "source": [
    "ct.compile_project('locker.c')\n",
    "\n",
    "\n",
    "for x in range(1,20):\n",
    "    current_test = get_safe_num(x)\n",
    "    print(f'process {x}')\n",
    "    print(f'\\t cheks: {current_test[\"total_checks\"]}')\n",
    "    print(f'\\t duration: {current_test[\"duration\"]}')\n",
    "\n"
   ]
  },
  {
   "cell_type": "markdown",
   "metadata": {},
   "source": []
  }
 ],
 "metadata": {
  "kernelspec": {
   "display_name": "Python 3",
   "language": "python",
   "name": "python3"
  },
  "language_info": {
   "codemirror_mode": {
    "name": "ipython",
    "version": 3
   },
   "file_extension": ".py",
   "mimetype": "text/x-python",
   "name": "python",
   "nbconvert_exporter": "python",
   "pygments_lexer": "ipython3",
   "version": "3.11.5"
  },
  "orig_nbformat": 4
 },
 "nbformat": 4,
 "nbformat_minor": 2
}
