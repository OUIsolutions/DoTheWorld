{
 "cells": [
  {
   "cell_type": "code",
   "execution_count": 6,
   "metadata": {},
   "outputs": [],
   "source": [
    "import  Build.CToolKit  as ct \n",
    "from time import time\n",
    "import json"
   ]
  },
  {
   "cell_type": "code",
   "execution_count": 7,
   "metadata": {},
   "outputs": [],
   "source": [
    "def execute_single_test(total_process,total_lines,total_checks):\n",
    "    \n",
    "    now = time()\n",
    "    ct.ComandLineExecution(f'./locker.out {total_process} {total_lines} {total_checks} ')\n",
    "    duration = time() - now\n",
    "    totals = {}\n",
    "    with open('a.txt','r') as arq:\n",
    "        elements = arq.read().split('\\n')\n",
    "        for e in elements:\n",
    "            if not e:\n",
    "                continue\n",
    "            try:\n",
    "                totals[e]+=1\n",
    "            except KeyError:\n",
    "                totals[e] = 1\n",
    "\n",
    "    if len(totals) != total_process:\n",
    "        raise Exception('not equal to total process',totals,total_process)\n",
    "    \n",
    "    for x in totals:\n",
    "        value = totals[x]\n",
    "        if value != total_lines:\n",
    "            raise Exception('not equal to generation per process')\n",
    "    return duration\n"
   ]
  },
  {
   "cell_type": "code",
   "execution_count": 8,
   "metadata": {},
   "outputs": [],
   "source": [
    "def execute_single_test_x_times(times,total_process,total_lines,total_checks):\n",
    "    for x in range(0,times):\n",
    "        execute_single_test(total_process,total_lines,total_checks)\n",
    "        "
   ]
  },
  {
   "cell_type": "code",
   "execution_count": 9,
   "metadata": {},
   "outputs": [],
   "source": [
    "def get_safe_num(total_process,times):\n",
    "     total_checks = 10\n",
    "    \n",
    "     \n",
    "     while True:\n",
    "        try:\n",
    "             start = time()\n",
    "             execute_single_test_x_times(times,total_process,10,total_checks)\n",
    "            \n",
    "             break\n",
    "        except:\n",
    "            total_checks+=20\n",
    "     \n",
    "  \n",
    "\n",
    "     return {\n",
    "         'total_checks':total_checks,\n",
    "        'duration': time() - start \n",
    "     }\n",
    "         "
   ]
  },
  {
   "cell_type": "code",
   "execution_count": 10,
   "metadata": {},
   "outputs": [
    {
     "name": "stdout",
     "output_type": "stream",
     "text": [
      "process 1\n",
      "\t cheks: 10\n",
      "\t duration: 2.165707588195801\n",
      "process 2\n",
      "\t cheks: 10\n",
      "\t duration: 3.277695655822754\n",
      "process 3\n",
      "\t cheks: 130\n",
      "\t duration: 6.0526463985443115\n",
      "process 4\n",
      "\t cheks: 270\n",
      "\t duration: 10.98270297050476\n",
      "end tests\n"
     ]
    }
   ],
   "source": [
    "ct.compile_project('locker.c')\n",
    "total_process  = 5\n",
    "times_each = 500\n",
    "tests = []\n",
    "result =  {\n",
    "    'times':times_each,\n",
    "    'tests':tests,\n",
    "    \"testesd with\":total_process\n",
    "}\n",
    "for x in range(1,total_process):\n",
    "    current_test = get_safe_num(x,times_each)\n",
    "    print(f'process {x}')\n",
    "    print(f'\\t cheks: {current_test[\"total_checks\"]}')\n",
    "    print(f'\\t duration: {current_test[\"duration\"]}')\n",
    "    \n",
    "    tests.append(current_test)\n",
    "    \n",
    "print('end tests')\n",
    "with open('final.json','w') as arq:\n",
    "    json.dump(result,arq,indent=4)\n"
   ]
  },
  {
   "cell_type": "markdown",
   "metadata": {},
   "source": []
  }
 ],
 "metadata": {
  "kernelspec": {
   "display_name": "Python 3",
   "language": "python",
   "name": "python3"
  },
  "language_info": {
   "codemirror_mode": {
    "name": "ipython",
    "version": 3
   },
   "file_extension": ".py",
   "mimetype": "text/x-python",
   "name": "python",
   "nbconvert_exporter": "python",
   "pygments_lexer": "ipython3",
   "version": "3.11.5"
  },
  "orig_nbformat": 4
 },
 "nbformat": 4,
 "nbformat_minor": 2
}
