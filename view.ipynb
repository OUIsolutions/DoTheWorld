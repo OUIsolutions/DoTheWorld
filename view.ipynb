{
 "cells": [
  {
   "cell_type": "code",
   "execution_count": 34,
   "metadata": {},
   "outputs": [],
   "source": [
    "import  Build.CToolKit  as ct \n",
    "from time import time"
   ]
  },
  {
   "cell_type": "code",
   "execution_count": 35,
   "metadata": {},
   "outputs": [],
   "source": [
    "def execute_single_test(total_process,generation_per_process):\n",
    "    \n",
    "    output = ct.compile_project('single_modification.c')\n",
    "    now = time()\n",
    "    ct.ComandLineExecution(f'./{output} {total_process} {generation_per_process}')\n",
    "    duration = time() - now\n",
    "    totals = {}\n",
    "    with open('a.txt','r') as arq:\n",
    "        elements = arq.read().split('\\n')\n",
    "        for e in elements:\n",
    "            if not e:\n",
    "                continue\n",
    "            try:\n",
    "                totals[e]+=1\n",
    "            except KeyError:\n",
    "                totals[e] = 1\n",
    "\n",
    "    if len(totals) != total_process:\n",
    "        raise Exception('not equal to total process',totals,total_process)\n",
    "    \n",
    "    for x in totals:\n",
    "        value = totals[x]\n",
    "        if value != generation_per_process:\n",
    "            raise Exception('not equal to generation per process')\n",
    "    return duration\n"
   ]
  },
  {
   "cell_type": "code",
   "execution_count": 36,
   "metadata": {},
   "outputs": [
    {
     "ename": "Exception",
     "evalue": "('not equal to total process', {'0': 20, '5': 20, '2': 20, '1': 20, '6': 20, '3': 20}, 7)",
     "output_type": "error",
     "traceback": [
      "\u001b[0;31m---------------------------------------------------------------------------\u001b[0m",
      "\u001b[0;31mException\u001b[0m                                 Traceback (most recent call last)",
      "\u001b[0;32m<ipython-input-36-771e24e4b27c>\u001b[0m in \u001b[0;36m<module>\u001b[0;34m\u001b[0m\n\u001b[1;32m      5\u001b[0m             \u001b[0;34m'total process'\u001b[0m\u001b[0;34m:\u001b[0m\u001b[0mx\u001b[0m\u001b[0;34m,\u001b[0m\u001b[0;34m\u001b[0m\u001b[0;34m\u001b[0m\u001b[0m\n\u001b[1;32m      6\u001b[0m             \u001b[0;34m'total generation'\u001b[0m\u001b[0;34m:\u001b[0m\u001b[0my\u001b[0m \u001b[0;34m*\u001b[0m\u001b[0;36m10\u001b[0m\u001b[0;34m,\u001b[0m\u001b[0;34m\u001b[0m\u001b[0;34m\u001b[0m\u001b[0m\n\u001b[0;32m----> 7\u001b[0;31m             \u001b[0;34m'duration'\u001b[0m\u001b[0;34m:\u001b[0m\u001b[0mexecute_single_test\u001b[0m\u001b[0;34m(\u001b[0m\u001b[0mx\u001b[0m\u001b[0;34m,\u001b[0m\u001b[0my\u001b[0m \u001b[0;34m*\u001b[0m\u001b[0;36m10\u001b[0m\u001b[0;34m)\u001b[0m\u001b[0;34m\u001b[0m\u001b[0;34m\u001b[0m\u001b[0m\n\u001b[0m\u001b[1;32m      8\u001b[0m         })\n",
      "\u001b[0;32m<ipython-input-35-ab9451471e9e>\u001b[0m in \u001b[0;36mexecute_single_test\u001b[0;34m(total_process, generation_per_process)\u001b[0m\n\u001b[1;32m     17\u001b[0m \u001b[0;34m\u001b[0m\u001b[0m\n\u001b[1;32m     18\u001b[0m     \u001b[0;32mif\u001b[0m \u001b[0mlen\u001b[0m\u001b[0;34m(\u001b[0m\u001b[0mtotals\u001b[0m\u001b[0;34m)\u001b[0m \u001b[0;34m!=\u001b[0m \u001b[0mtotal_process\u001b[0m\u001b[0;34m:\u001b[0m\u001b[0;34m\u001b[0m\u001b[0;34m\u001b[0m\u001b[0m\n\u001b[0;32m---> 19\u001b[0;31m         \u001b[0;32mraise\u001b[0m \u001b[0mException\u001b[0m\u001b[0;34m(\u001b[0m\u001b[0;34m'not equal to total process'\u001b[0m\u001b[0;34m,\u001b[0m\u001b[0mtotals\u001b[0m\u001b[0;34m,\u001b[0m\u001b[0mtotal_process\u001b[0m\u001b[0;34m)\u001b[0m\u001b[0;34m\u001b[0m\u001b[0;34m\u001b[0m\u001b[0m\n\u001b[0m\u001b[1;32m     20\u001b[0m \u001b[0;34m\u001b[0m\u001b[0m\n\u001b[1;32m     21\u001b[0m     \u001b[0;32mfor\u001b[0m \u001b[0mx\u001b[0m \u001b[0;32min\u001b[0m \u001b[0mtotals\u001b[0m\u001b[0;34m:\u001b[0m\u001b[0;34m\u001b[0m\u001b[0;34m\u001b[0m\u001b[0m\n",
      "\u001b[0;31mException\u001b[0m: ('not equal to total process', {'0': 20, '5': 20, '2': 20, '1': 20, '6': 20, '3': 20}, 7)"
     ]
    }
   ],
   "source": [
    "\n",
    "result = []\n",
    "for x in range(1,20):\n",
    "    for y in range(1,3):\n",
    "        result.append({\n",
    "            'total process':x,\n",
    "            'total generation':y *10,\n",
    "            'duration':execute_single_test(x,y *10)\n",
    "        })"
   ]
  }
 ],
 "metadata": {
  "kernelspec": {
   "display_name": "Python 3",
   "language": "python",
   "name": "python3"
  },
  "language_info": {
   "codemirror_mode": {
    "name": "ipython",
    "version": 3
   },
   "file_extension": ".py",
   "mimetype": "text/x-python",
   "name": "python",
   "nbconvert_exporter": "python",
   "pygments_lexer": "ipython3",
   "version": "3.6.8"
  },
  "orig_nbformat": 4
 },
 "nbformat": 4,
 "nbformat_minor": 2
}
