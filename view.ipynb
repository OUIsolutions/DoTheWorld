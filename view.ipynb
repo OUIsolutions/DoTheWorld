{
 "cells": [
  {
   "cell_type": "code",
   "execution_count": 1,
   "metadata": {},
   "outputs": [],
   "source": [
    "import  Build.CToolKit  as ct \n",
    "from time import time"
   ]
  },
  {
   "cell_type": "code",
   "execution_count": 2,
   "metadata": {},
   "outputs": [],
   "source": [
    "def execute_single_test(total_process,total_lines,reverification_delay,wait_delay):\n",
    "    \n",
    "    now = time()\n",
    "    ct.ComandLineExecution(f'./single_modification.out {total_process} {total_lines} {reverification_delay} {wait_delay}')\n",
    "    duration = time() - now\n",
    "    totals = {}\n",
    "    with open('a.txt','r') as arq:\n",
    "        elements = arq.read().split('\\n')\n",
    "        for e in elements:\n",
    "            if not e:\n",
    "                continue\n",
    "            try:\n",
    "                totals[e]+=1\n",
    "            except KeyError:\n",
    "                totals[e] = 1\n",
    "\n",
    "    if len(totals) != total_process:\n",
    "        raise Exception('not equal to total process',totals,total_process)\n",
    "    \n",
    "    for x in totals:\n",
    "        value = totals[x]\n",
    "        if value != total_lines:\n",
    "            raise Exception('not equal to generation per process')\n",
    "    return duration\n"
   ]
  },
  {
   "cell_type": "code",
   "execution_count": 3,
   "metadata": {},
   "outputs": [],
   "source": [
    "def execute_single_test_x_times(times,total_process,total_lines,reverification_delay,wait_delay):\n",
    "    for x in range(0,times):\n",
    "        execute_single_test(total_process,total_lines,reverification_delay,wait_delay)\n",
    "        "
   ]
  },
  {
   "cell_type": "code",
   "execution_count": 4,
   "metadata": {},
   "outputs": [],
   "source": [
    "def get_safe_num(total_process):\n",
    "     wait_delay = 1\n",
    "     reverification = 0.1\n",
    "     times = 100\n",
    "     \n",
    "     while True:\n",
    "        try:\n",
    "             execute_single_test_x_times(times,total_process,10,reverification,wait_delay)\n",
    "             break\n",
    "        except:\n",
    "            reverification+=0.1\n",
    "     \n",
    "  \n",
    "\n",
    "     return {\n",
    "         'reverification':reverification,\n",
    "         'wait':wait_delay\n",
    "     }\n",
    "         "
   ]
  },
  {
   "cell_type": "code",
   "execution_count": 5,
   "metadata": {},
   "outputs": [
    {
     "name": "stdout",
     "output_type": "stream",
     "text": [
      "process 1\n",
      "\t wait: 1\n",
      "\t reverifation: 0.1\n",
      "process 2\n",
      "\t wait: 1\n",
      "\t reverifation: 0.1\n",
      "process 3\n",
      "\t wait: 1\n",
      "\t reverifation: 0.1\n",
      "process 4\n",
      "\t wait: 1\n",
      "\t reverifation: 0.1\n",
      "process 5\n",
      "\t wait: 1\n",
      "\t reverifation: 0.1\n",
      "process 6\n",
      "\t wait: 1\n",
      "\t reverifation: 0.1\n",
      "process 7\n",
      "\t wait: 1\n",
      "\t reverifation: 0.1\n",
      "process 8\n",
      "\t wait: 1\n",
      "\t reverifation: 0.1\n",
      "process 9\n",
      "\t wait: 1\n",
      "\t reverifation: 0.1\n",
      "process 10\n",
      "\t wait: 1\n",
      "\t reverifation: 0.1\n",
      "process 11\n",
      "\t wait: 1\n",
      "\t reverifation: 0.1\n",
      "process 12\n",
      "\t wait: 1\n",
      "\t reverifation: 0.1\n",
      "process 13\n",
      "\t wait: 1\n",
      "\t reverifation: 0.1\n",
      "process 14\n",
      "\t wait: 1\n",
      "\t reverifation: 0.1\n",
      "process 15\n",
      "\t wait: 1\n",
      "\t reverifation: 0.1\n",
      "process 16\n",
      "\t wait: 1\n",
      "\t reverifation: 0.1\n",
      "process 17\n",
      "\t wait: 1\n",
      "\t reverifation: 0.1\n",
      "process 18\n",
      "\t wait: 1\n",
      "\t reverifation: 0.1\n",
      "process 19\n",
      "\t wait: 1\n",
      "\t reverifation: 0.1\n"
     ]
    }
   ],
   "source": [
    "ct.compile_project('single_modification.c')\n",
    "\n",
    "\n",
    "for x in range(1,20):\n",
    "    current_test = get_safe_num(x)\n",
    "    print(f'process {x}')\n",
    "    print(f'\\t wait: {current_test[\"wait\"]}')\n",
    "    print(f'\\t reverifation: {current_test[\"reverification\"]}')\n",
    "\n"
   ]
  },
  {
   "cell_type": "markdown",
   "metadata": {},
   "source": []
  }
 ],
 "metadata": {
  "kernelspec": {
   "display_name": "Python 3",
   "language": "python",
   "name": "python3"
  },
  "language_info": {
   "codemirror_mode": {
    "name": "ipython",
    "version": 3
   },
   "file_extension": ".py",
   "mimetype": "text/x-python",
   "name": "python",
   "nbconvert_exporter": "python",
   "pygments_lexer": "ipython3",
   "version": "3.6.8"
  },
  "orig_nbformat": 4
 },
 "nbformat": 4,
 "nbformat_minor": 2
}
