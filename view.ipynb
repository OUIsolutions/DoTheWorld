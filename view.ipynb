{
 "cells": [
  {
   "cell_type": "code",
   "execution_count": 1,
   "metadata": {},
   "outputs": [],
   "source": [
    "import  Build.CToolKit  as ct \n",
    "from time import time\n",
    "from time import sleep"
   ]
  },
  {
   "cell_type": "code",
   "execution_count": 2,
   "metadata": {},
   "outputs": [],
   "source": [
    "def execute_single_test(total_process,generation_per_process):\n",
    "    \n",
    "    output = ct.compile_project('single_modification.c')\n",
    "    now = time()\n",
    "    ct.ComandLineExecution(f'./{output} {total_process} {generation_per_process}')\n",
    "    duration = time() - now\n",
    "    totals = {}\n",
    "    with open('a.txt','r') as arq:\n",
    "        elements = arq.read().split('\\n')\n",
    "        for e in elements:\n",
    "            if not e:\n",
    "                continue\n",
    "            try:\n",
    "                totals[e]+=1\n",
    "            except KeyError:\n",
    "                totals[e] = 1\n",
    "\n",
    "    if len(totals) != total_process:\n",
    "        raise Exception('not equal to total process',totals,total_process)\n",
    "    \n",
    "    for x in totals:\n",
    "        value = totals[x]\n",
    "        if value != generation_per_process:\n",
    "            raise Exception('not equal to generation per process')\n",
    "    return duration\n"
   ]
  },
  {
   "cell_type": "code",
   "execution_count": 3,
   "metadata": {},
   "outputs": [
    {
     "data": {
      "text/plain": [
       "[{'total process': 1, 'total generation': 10, 'duration': 2.092073440551758},\n",
       " {'total process': 2, 'total generation': 10, 'duration': 5.229938745498657},\n",
       " {'total process': 3, 'total generation': 10, 'duration': 8.302458047866821},\n",
       " {'total process': 4, 'total generation': 10, 'duration': 11.218149900436401},\n",
       " {'total process': 5, 'total generation': 10, 'duration': 14.31312370300293},\n",
       " {'total process': 6, 'total generation': 10, 'duration': 16.287275552749634},\n",
       " {'total process': 7, 'total generation': 10, 'duration': 20.30780529975891},\n",
       " {'total process': 8, 'total generation': 10, 'duration': 23.3144690990448},\n",
       " {'total process': 9, 'total generation': 10, 'duration': 26.193686962127686},\n",
       " {'total process': 10, 'total generation': 10, 'duration': 29.326380491256714},\n",
       " {'total process': 11, 'total generation': 10, 'duration': 38.3270161151886},\n",
       " {'total process': 12, 'total generation': 10, 'duration': 35.147154092788696},\n",
       " {'total process': 13, 'total generation': 10, 'duration': 40.0771050453186},\n",
       " {'total process': 14, 'total generation': 10, 'duration': 41.18542146682739},\n",
       " {'total process': 15, 'total generation': 10, 'duration': 48.30795335769653},\n",
       " {'total process': 16, 'total generation': 10, 'duration': 59.249287128448486},\n",
       " {'total process': 17, 'total generation': 10, 'duration': 52.33715748786926},\n",
       " {'total process': 18, 'total generation': 10, 'duration': 69.25379252433777},\n",
       " {'total process': 19, 'total generation': 10, 'duration': 59.31176781654358}]"
      ]
     },
     "execution_count": 3,
     "metadata": {},
     "output_type": "execute_result"
    }
   ],
   "source": [
    "\n",
    "result = []\n",
    "for x in range(1,20):\n",
    "    result.append({\n",
    "        'total process':x,\n",
    "        'total generation':10,\n",
    "        'duration':execute_single_test(x,10)\n",
    "    })\n",
    "result    "
   ]
  },
  {
   "cell_type": "markdown",
   "metadata": {},
   "source": []
  }
 ],
 "metadata": {
  "kernelspec": {
   "display_name": "Python 3",
   "language": "python",
   "name": "python3"
  },
  "language_info": {
   "codemirror_mode": {
    "name": "ipython",
    "version": 3
   },
   "file_extension": ".py",
   "mimetype": "text/x-python",
   "name": "python",
   "nbconvert_exporter": "python",
   "pygments_lexer": "ipython3",
   "version": "3.6.8"
  },
  "orig_nbformat": 4
 },
 "nbformat": 4,
 "nbformat_minor": 2
}
